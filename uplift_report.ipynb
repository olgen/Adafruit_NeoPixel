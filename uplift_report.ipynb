{
  "nbformat": 4,
  "nbformat_minor": 0,
  "metadata": {
    "colab": {
      "name": "Uplift Report.ipynb",
      "version": "0.3.2",
      "provenance": [],
      "collapsed_sections": [
        "eSixTLyiy0_A"
      ],
      "include_colab_link": true
    },
    "kernelspec": {
      "name": "python3",
      "display_name": "Python 3"
    }
  },
  "cells": [
    {
      "cell_type": "markdown",
      "metadata": {
        "id": "view-in-github",
        "colab_type": "text"
      },
      "source": [
        "<a href=\"https://colab.research.google.com/github/olgen/Adafruit_NeoPixel/blob/master/uplift_report.ipynb\" target=\"_parent\"><img src=\"https://colab.research.google.com/assets/colab-badge.svg\" alt=\"Open In Colab\"/></a>"
      ]
    },
    {
      "metadata": {
        "colab_type": "text",
        "id": "5mOAgeTNy0-o"
      },
      "cell_type": "markdown",
      "source": [
        "# remerge uplift report\n",
        "\n",
        "This notebook allows you to validate remerge provided uplift reporting numbers. To do so it downloads and analyses exported campaign and event data from S3. The campaign data contains all users that remerge marked to be part of an uplift test, the A/B group assignment, the timestamp of marking, conversion events (click, app open or similar) and their cost. The event data reflects the app event stream and includes events, their timestamp and revenue (if any). We calculate the incremental revenue and the iROAS in line with the [remerge whitepaper](https://drive.google.com/file/d/1PTJ93Cpjw1BeiVns8dTcs2zDDWmmjpdc/view). \n",
        "\n",
        "**Hint**: This notebook can be run in any Jupyter instance with enough space/memory, as a [Google Colab notebook](#Google-Colab-version) or as a standalone Python script. If you are using a copy of this notebook running on Colab or locally you can find the original template on [GitHub: remerge/uplift-report](https://github.com/remerge/uplift-report/blob/master/uplift_report_per_campaign.ipynb)\n",
        "\n",
        "### Notebook configuration\n",
        "\n",
        "For this notebook to work properly several variables in the [Configuration](#Configuration) section need to be be set: `customer`, `audience`, `\n",
        "revenue_event`, `dates` and the AWS credentials. All of these will be provided by your remerge account manager. \n",
        "\n",
        "\n",
        "### Verification\n",
        "\n",
        "To verify that the group split is random and has no bias, user events / attributes before the campaign start can be compared and checked for an equal distribution in test and control group. For example the user age distribution, the user activity distribution or the average spend per user  should be the same in both groups pre campaign.\n",
        "\n"
      ]
    },
    {
      "metadata": {
        "id": "QTxBfrT4_Vvr",
        "colab_type": "text"
      },
      "cell_type": "markdown",
      "source": [
        ""
      ]
    },
    {
      "metadata": {
        "id": "OYbsRBPTaCZW",
        "colab_type": "text"
      },
      "cell_type": "markdown",
      "source": [
        "## Google Colab support\n",
        "\n",
        "This notebook can be run inside Google Colab. Due to size limitations it cointains several optimizations like removing unused fields from the input files and caching files. Furthermore it installs missing dependencies and restarts the kernel. **Because pandas is upgraded the kernel needs to be restarted once per fresh instance. Just run the cell again after restart** "
      ]
    },
    {
      "metadata": {
        "id": "QoJAOpL0aEIT",
        "colab_type": "code",
        "colab": {}
      },
      "cell_type": "code",
      "source": [
        "try:\n",
        "  import google.colab\n",
        "  IN_COLAB = True\n",
        "except:\n",
        "  IN_COLAB = False\n",
        "\n",
        "if IN_COLAB:\n",
        "  !pip install pyarrow\n",
        "  !pip install gspread-pandas\n",
        "  import pandas as pdt\n",
        "  if pdt.__version__ != '0.23.4':\n",
        "    # upgrading pandas requires a restart of the kernel\n",
        "    # (we need an up to date pandas because we write to S3 for caching)\n",
        "    # we kill it and let it auto restart (only needed once per fresh instance)\n",
        "    !pip install pandas==0.23.4\n",
        "    import os\n",
        "    os.kill(os.getpid(), 9)"
      ],
      "execution_count": 0,
      "outputs": []
    },
    {
      "metadata": {
        "colab_type": "text",
        "id": "kyYz6TCny0-q"
      },
      "cell_type": "markdown",
      "source": [
        "## Import needed packages\n",
        "\n",
        "This notebook/script needs pandas and scipy for analysis and boto to access data store on S3.\n"
      ]
    },
    {
      "metadata": {
        "colab_type": "code",
        "id": "GWizAQT3y0-r",
        "colab": {}
      },
      "cell_type": "code",
      "source": [
        "from datetime import datetime\n",
        "import pandas as pd\n",
        "import re\n",
        "import os\n",
        "import gzip\n",
        "import scipy\n",
        "import scipy.stats \n",
        "import s3fs\n",
        "from IPython.display import display # so we can run this as script as well\n",
        "import gc"
      ],
      "execution_count": 0,
      "outputs": []
    },
    {
      "metadata": {
        "colab_type": "text",
        "id": "8u6Q76fCy0-u"
      },
      "cell_type": "markdown",
      "source": [
        "## Configuration\n",
        "\n",
        "Set the customer name, audience and access credentials for the S3 bucket and path. Furthermore the event for which we want to evaluate the uplift needs to be set `revenue_event`."
      ]
    },
    {
      "metadata": {
        "colab_type": "code",
        "id": "aRd9FvoUy0-v",
        "colab": {}
      },
      "cell_type": "code",
      "source": [
        "# configure path and revenue event \n",
        "customer = ''\n",
        "audiences = ['']\n",
        "revenue_event = 'purchase'\n",
        "\n",
        "# date range for the report\n",
        "dates = pd.date_range(start='2019-01-01',end='2019-01-01')\n",
        "\n",
        "# AWS credentials\n",
        "os.environ[\"AWS_ACCESS_KEY_ID\"] = ''\n",
        "os.environ[\"AWS_SECRET_ACCESS_KEY\"] = ''\n",
        "\n",
        "# Configure the reporting output: \n",
        "\n",
        "# named groups that aggregate several campaigns\n",
        "groups = {}\n",
        "\n",
        "# show uplift results per campaign:\n",
        "per_campaign_results = False"
      ],
      "execution_count": 0,
      "outputs": []
    },
    {
      "metadata": {
        "colab_type": "text",
        "id": "7XnJeThPiSye"
      },
      "cell_type": "markdown",
      "source": [
        "## Helper\n",
        "Define a few helper functions to load and cache data."
      ]
    },
    {
      "metadata": {
        "id": "DjkoB3CXJI9e",
        "colab_type": "code",
        "colab": {}
      },
      "cell_type": "code",
      "source": [
        "def path(audience):\n",
        "  return \"s3://remerge-customers/{0}/uplift_data/{1}\".format(customer,audience)\n",
        "\n",
        "def filter_attributions_df(df):\n",
        "  return df[df.partner_event == revenue_event]\n",
        "  \n",
        "# helper to download CSV files, convert to DF and print time needed\n",
        "# caches files locally and on S3 to be reused\n",
        "def read_csv(audience, source, date, chunk_filter_fn=None, chunk_size=10**6):\n",
        "    now = datetime.now()\n",
        "    \n",
        "    date_str = date.strftime('%Y%m%d')\n",
        "    \n",
        "    filename = '{0}/{1}/{2}.csv.gz'.format(path(audience), source, date_str)\n",
        "    \n",
        "    # local cache\n",
        "    cache_dir = 'cache/{0}/{1}'.format(audience, source)\n",
        "    cache_filename = '{0}/{1}.parquet'.format(cache_dir, date_str)\n",
        "    \n",
        "    # s3 cache (useful if we don't have enough space on the Colab instance)\n",
        "    s3_cache_filename = '{0}/{1}/cache/{2}.parquet'.format(path(audience), \n",
        "                                                           source, date_str)\n",
        "    \n",
        "    if source == 'attributions':\n",
        "      cache_filename = '{0}/{1}-{2}.parquet'.format(cache_dir, date_str, \n",
        "                                                    revenue_event)\n",
        "      \n",
        "      # s3 cache (useful if we don't have enough space on the Colab instance)\n",
        "      s3_cache_filename = '{0}/{1}/cache/{2}-{3}.parquet' \\\n",
        "        .format(path(audience), source, date_str, revenue_event)\n",
        "\n",
        "    if os.path.exists(cache_filename):\n",
        "        print(now, 'loading from', cache_filename)\n",
        "        return pd.read_parquet(cache_filename, engine='pyarrow')\n",
        "    \n",
        "    fs = s3fs.S3FileSystem(anon=False)\n",
        "    \n",
        "    if fs.exists(path=s3_cache_filename):\n",
        "      print(now, 'loading from S3 cache', s3_cache_filename)\n",
        "      return pd.read_parquet(s3_cache_filename, engine='pyarrow')\n",
        "    \n",
        "    print(now, 'start loading CSV for', audience, source, date)\n",
        "    \n",
        "    read_csv_kwargs = {'chunksize': chunk_size}\n",
        "    \n",
        "    if source == 'attributions':\n",
        "      # Only read the columns that are going to be used from attribution\n",
        "      read_csv_kwargs['usecols'] = ['ts', 'user_id', 'partner_event', \n",
        "                                    'revenue_eur', 'ab_test_group']\n",
        "      \n",
        "    df = pd.DataFrame()\n",
        "    for chunk in pd.read_csv(filename, escapechar='\\\\', low_memory=False,\n",
        "                             **read_csv_kwargs):\n",
        "      if chunk_filter_fn:\n",
        "        filtered_chunk = chunk_filter_fn(chunk)\n",
        "      else:\n",
        "        filtered_chunk = chunk\n",
        "      \n",
        "      df = pd.concat([df, filtered_chunk], \n",
        "                     ignore_index = True, verify_integrity=True)\n",
        "    \n",
        "    print(datetime.now(), 'finished loading CSV for', date.strftime('%d.%m.%Y'),\n",
        "          'took', datetime.now()-now)\n",
        "    \n",
        "    if not os.path.exists(cache_dir):\n",
        "        os.makedirs(cache_dir)\n",
        "        \n",
        "    df.to_parquet(cache_filename, engine='pyarrow')\n",
        "    \n",
        "    # write it to the S3 cache folder as well\n",
        "    print(datetime.now(), 'caching as parquet', s3_cache_filename)\n",
        "    \n",
        "    df.to_parquet(s3_cache_filename, engine='pyarrow')\n",
        "    return df"
      ],
      "execution_count": 0,
      "outputs": []
    },
    {
      "metadata": {
        "colab_type": "text",
        "id": "eSixTLyiy0_A"
      },
      "cell_type": "markdown",
      "source": [
        "## Load CSV data from S3\n",
        "\n",
        "Load mark, spend and event data from S3. \n",
        "\n",
        "### IMPORTANT\n",
        "\n",
        "**The event data is usually quite large (several GB) so this operation might take several minutes or hours to complete, depending on the size and connection.**"
      ]
    },
    {
      "metadata": {
        "colab_type": "code",
        "id": "PjWaWZS-y0_B",
        "colab": {}
      },
      "cell_type": "code",
      "source": [
        "bids_df = pd.concat([read_csv(audience,'marks_and_spend',date) for audience in audiences for date in dates], ignore_index = True, verify_integrity=True)"
      ],
      "execution_count": 0,
      "outputs": []
    },
    {
      "metadata": {
        "id": "kFg_-_EW5TR1",
        "colab_type": "code",
        "colab": {}
      },
      "cell_type": "code",
      "source": [
        "attributions_df = pd.concat([read_csv(audience, 'attributions', date, filter_attributions_df) for audience in audiences for date in dates], ignore_index = True, verify_integrity=True)"
      ],
      "execution_count": 0,
      "outputs": []
    },
    {
      "metadata": {
        "colab_type": "text",
        "id": "Ec_qFUaVy0_I"
      },
      "cell_type": "markdown",
      "source": [
        "Print some statistics of the loaded data sets."
      ]
    },
    {
      "metadata": {
        "colab_type": "code",
        "id": "N0Ih6SSuy0_J",
        "colab": {}
      },
      "cell_type": "code",
      "source": [
        "bids_df.info()"
      ],
      "execution_count": 0,
      "outputs": []
    },
    {
      "metadata": {
        "colab_type": "code",
        "id": "EoU_cW07y0_M",
        "colab": {}
      },
      "cell_type": "code",
      "source": [
        "attributions_df.info()"
      ],
      "execution_count": 0,
      "outputs": []
    },
    {
      "metadata": {
        "colab_type": "code",
        "id": "XinLEFZcy0_V",
        "colab": {}
      },
      "cell_type": "code",
      "source": [
        "# set formatting options\n",
        "pd.set_option('display.float_format', '{:.2f}'.format)"
      ],
      "execution_count": 0,
      "outputs": []
    },
    {
      "metadata": {
        "colab_type": "text",
        "id": "mFwmhMrJy0_z"
      },
      "cell_type": "markdown",
      "source": [
        "## Remove invalid users\n",
        "\n",
        "Due to a race condition during marking we need to filter out users that are marked as *control* and *test*. In rare cases we see the same user on different servers in the same second, and unknowingly of each other marked him differently. This was fixed in the latest version of the remerge plattform but we need to filter old data."
      ]
    },
    {
      "metadata": {
        "colab_type": "code",
        "id": "5bnOSTKly0_1",
        "colab": {}
      },
      "cell_type": "code",
      "source": [
        "# users that are in both groups due to racy bids are invalid\n",
        "# we need to filter them out\n",
        "groups_per_user = bids_df.groupby('user_id')['ab_test_group'].nunique()\n",
        "invalid_users = groups_per_user[groups_per_user > 1]"
      ],
      "execution_count": 0,
      "outputs": []
    },
    {
      "metadata": {
        "colab_type": "text",
        "id": "4XVQNpr9y0_7"
      },
      "cell_type": "markdown",
      "source": [
        "## Define functions to prepare data frames\n"
      ]
    },
    {
      "metadata": {
        "colab_type": "text",
        "id": "IPPvDwWIy1AC"
      },
      "cell_type": "markdown",
      "source": [
        "Calculate the cost of advertising give a dataframe. Remerge tracks monetary values in micro currency units. "
      ]
    },
    {
      "metadata": {
        "colab_type": "code",
        "id": "ZEISdQDny1AC",
        "colab": {}
      },
      "cell_type": "code",
      "source": [
        "def ad_spend(df):\n",
        "  ad_spend_micros = df[df.event_type == 'buying_conversion']['cost_eur'].sum()\n",
        "  return ad_spend_micros / 10**6"
      ],
      "execution_count": 0,
      "outputs": []
    },
    {
      "metadata": {
        "id": "XgJuPnbAJu3w",
        "colab_type": "text"
      },
      "cell_type": "markdown",
      "source": [
        "The dataframe created by `marked`  will contain all mark events (without the invalid marks). Remerge marks users per campaign.  If a user was marked once for an audience he will have the same group allocation for consecutive marks (different campaigns) unless manually reset on audience level.  "
      ]
    },
    {
      "metadata": {
        "colab_type": "code",
        "id": "a6XtI0Iqy0_8",
        "colab": {}
      },
      "cell_type": "code",
      "source": [
        "def marked(df):\n",
        "  mark_df = df[df.event_type == 'mark']\n",
        "  mark_df = mark_df[~mark_df['user_id'].isin(invalid_users.index)]\n",
        "  sorted_mark_df = mark_df.sort_values('ts')\n",
        "  depuplicated_mark_df = sorted_mark_df.drop_duplicates(['user_id'])\n",
        "  return depuplicated_mark_df"
      ],
      "execution_count": 0,
      "outputs": []
    },
    {
      "metadata": {
        "colab_type": "text",
        "id": "EM9SbRf2y1AG"
      },
      "cell_type": "markdown",
      "source": [
        "`revenue` creates a dataframe that contains all relevant revenue events."
      ]
    },
    {
      "metadata": {
        "colab_type": "code",
        "id": "ONjCFbzIy1AH",
        "colab": {}
      },
      "cell_type": "code",
      "source": [
        "def revenue(df):\n",
        "  revenue_df = df[pd.notnull(df['revenue_eur'])]\n",
        "  return revenue_df[revenue_df.partner_event == revenue_event]"
      ],
      "execution_count": 0,
      "outputs": []
    },
    {
      "metadata": {
        "colab_type": "text",
        "id": "ph6eaF4Ny1Ad"
      },
      "cell_type": "markdown",
      "source": [
        "`merge` joins the marked users with the revenue events and excludes any revenue event that happend before the user was marked."
      ]
    },
    {
      "metadata": {
        "colab_type": "code",
        "id": "3mReofc4y1Ad",
        "colab": {}
      },
      "cell_type": "code",
      "source": [
        "def merge(mark_df,revenue_df):\n",
        "  merged_df = pd.merge(revenue_df, mark_df, on='user_id')\n",
        "  return merged_df[merged_df.ts_x > merged_df.ts_y]\n"
      ],
      "execution_count": 0,
      "outputs": []
    },
    {
      "metadata": {
        "colab_type": "text",
        "id": "armi-3kmy1Ag"
      },
      "cell_type": "markdown",
      "source": [
        "## Calculate uplift kpis\n",
        "\n",
        "We calculate the incremental revenue and the iROAS in line with the [remerge whitepaper](https://drive.google.com/file/d/1PTJ93Cpjw1BeiVns8dTcs2zDDWmmjpdc/view). Afterwards we run a [chi squared test](https://en.wikipedia.org/wiki/Chi-squared_test) on the results to test for significance of the results, comparing conversion to per group uniques."
      ]
    },
    {
      "metadata": {
        "colab_type": "code",
        "id": "V1vKf_u5y1Ag",
        "colab": {}
      },
      "cell_type": "code",
      "source": [
        "def uplift(ad_spend,mark_df,revenue_df,index_name):\n",
        "  # group marked users by their ab_test_group\n",
        "  grouped = mark_df.groupby(by='ab_test_group')\n",
        "  control_df = grouped.get_group('control')\n",
        "  test_df = grouped.get_group('test')\n",
        "  \n",
        "  # join marks and revenue events\n",
        "  merged_df = merge(mark_df,revenue_df)\n",
        "  grouped_revenue = merged_df.groupby(by='ab_test_group_y')\n",
        "  \n",
        "  # init all KPIs with 0s first:\n",
        "  test_revenue_micros = 0\n",
        "  test_conversions = 0\n",
        "  test_converters = 0\n",
        "  \n",
        "  control_revenue_micros = 0\n",
        "  control_conversions = 0\n",
        "  control_converters = 0\n",
        "\n",
        "  # we might not have any events for a certain group in the time-period,\n",
        "  if 'test' in grouped_revenue.groups:\n",
        "    test_revenue_df = grouped_revenue.get_group('test')\n",
        "    test_revenue_micros = test_revenue_df['revenue_eur'].sum()  \n",
        "    test_conversions = test_revenue_df['revenue_eur'].count()  \n",
        "    test_converters = test_revenue_df[test_revenue_df.partner_event == revenue_event]['user_id'].nunique()\n",
        "  \n",
        "  if 'control' in grouped_revenue.groups:\n",
        "    control_revenue_df = grouped_revenue.get_group('control')\n",
        "    control_revenue_micros = control_revenue_df['revenue_eur'].sum()  \n",
        "    control_conversions = control_revenue_df['revenue_eur'].count()\n",
        "    control_converters = control_revenue_df[control_revenue_df.partner_event == revenue_event]['user_id'].nunique()\n",
        "\n",
        "    \n",
        "  # calculate KPIs\n",
        "  test_group_size = test_df['user_id'].nunique()\n",
        "  test_revenue = test_revenue_micros / 10**6\n",
        "  control_group_size = control_df['user_id'].nunique()\n",
        "\n",
        "  control_revenue = control_revenue_micros / 10**6\n",
        "\n",
        "\n",
        "  ratio = float(test_group_size) / float(control_group_size)\n",
        "  scaled_control_conversions = float(control_conversions) * ratio\n",
        "  scaled_control_revenue_micros = float(control_revenue_micros) * ratio\n",
        "  incremental_conversions = test_conversions - scaled_control_conversions\n",
        "  incremental_revenue_micros = test_revenue_micros - scaled_control_revenue_micros\n",
        "  incremental_revenue = incremental_revenue_micros / 10**6\n",
        "  iroas = incremental_revenue / ad_spend\n",
        "  \n",
        "  rev_per_conversion_test = 0\n",
        "  rev_per_conversion_control = 0\n",
        "  if test_conversions > 0:\n",
        "    rev_per_conversion_test = test_revenue / test_conversions\n",
        "  if control_conversions > 0:\n",
        "    rev_per_conversion_control = control_revenue / control_conversions\n",
        "\n",
        "  \n",
        "  test_cvr = test_conversions / test_group_size\n",
        "  control_cvr = control_conversions / control_group_size\n",
        "  \n",
        "  uplift = 0\n",
        "  if control_cvr > 0:\n",
        "    uplift = test_cvr/control_cvr - 1\n",
        "  \n",
        "  \n",
        "  control_successes, test_successes = control_conversions, test_conversions\n",
        "  if max(test_cvr, control_cvr) > 1.0:\n",
        "    control_successes, test_successes = control_converters, test_converters \n",
        "  chi_df = pd.DataFrame({\n",
        "    \"conversions\": [control_successes, test_successes],\n",
        "    \"total\": [control_group_size, test_group_size]\n",
        "    }, index=['control', 'test'])\n",
        "  # CHI square calculation will fail with insufficient data\n",
        "  # Fallback to no significance\n",
        "  try: \n",
        "    chi,p,*_ = scipy.stats.chi2_contingency(pd.concat([chi_df.total - chi_df.conversions, chi_df.conversions], axis=1), correction=False)\n",
        "  except:\n",
        "    chi,p = 0,1.0\n",
        "  \n",
        "  # show results as a dataframe\n",
        "  return pd.DataFrame({\n",
        "    \"ad spend\": ad_spend,\n",
        "    \"total revenue\": test_revenue + control_revenue,\n",
        "    \"test group size\": test_group_size,\n",
        "    \"test conversions\": test_conversions,\n",
        "    \"test converters\": test_converters,\n",
        "    \"test revenue\": test_revenue,\n",
        "\n",
        "    \"control group size\": control_group_size,\n",
        "    \"control conversions\": control_conversions,\n",
        "    \"control_converters\": control_converters,\n",
        "    \"control revenue\": control_revenue,\n",
        "    \"ratio test/control\": ratio,\n",
        "    \"control conversions (scaled)\": scaled_control_conversions,\n",
        "    \"control revenue (scaled)\": scaled_control_revenue_micros / 10**6,\n",
        "    \"incremental conversions\": incremental_conversions,\n",
        "    \"incremental revenue\": incremental_revenue,\n",
        "    \"rev/conversions test\": rev_per_conversion_test,\n",
        "    \"rev/conversions control\": rev_per_conversion_control,\n",
        "    \"test CVR\": test_cvr,\n",
        "    \"control CVR\": control_cvr,\n",
        "    \"CVR Uplift\": uplift,\n",
        "    \"iROAS\": iroas,\n",
        "    \"chi^2\": chi,\n",
        "    \"p-value\": p,\n",
        "    \"significant\": p<0.05},index=[index_name]).transpose()"
      ],
      "execution_count": 0,
      "outputs": []
    },
    {
      "metadata": {
        "id": "tKdBRvkxL8Aa",
        "colab_type": "text"
      },
      "cell_type": "markdown",
      "source": [
        "### Calculate and display uplift report for the data set as a whole\n",
        "\n",
        "This takes the whole data set and calculates uplift KPIs."
      ]
    },
    {
      "metadata": {
        "colab_type": "code",
        "id": "2y91jjPVy1Ai",
        "colab": {}
      },
      "cell_type": "code",
      "source": [
        "# calculate the total result:\n",
        "revenue_df = revenue(attributions_df)\n",
        "mark_df = marked(bids_df)\n",
        "results_df = uplift(ad_spend(bids_df),mark_df,revenue_df,\"total\")"
      ],
      "execution_count": 0,
      "outputs": []
    },
    {
      "metadata": {
        "id": "Lcw0S2p2MHwu",
        "colab_type": "text"
      },
      "cell_type": "markdown",
      "source": [
        "### Calculate uplift report per group (if configured)\n",
        "\n",
        "Sometimes it makes sense to look at groups of similar campaigns. If the `groups`  dictionary contains group names as keys and a list of campaign ids as values per key, this function will compile a per group report. "
      ]
    },
    {
      "metadata": {
        "id": "w-OaxnWLGXTZ",
        "colab_type": "code",
        "colab": {}
      },
      "cell_type": "code",
      "source": [
        "# if there are groups filter the events against the per campaign groups and generate report\n",
        "if len(groups) > 0:\n",
        "  per_group_df = None\n",
        "  for name, campaigns in groups.items():\n",
        "    group_marks_df = bids_df[bids_df.campaign_id.isin(campaigns)]\n",
        "    results_df[name] = uplift(ad_spend(group_marks_df),marked(group_marks_df),revenue_df,name)"
      ],
      "execution_count": 0,
      "outputs": []
    },
    {
      "metadata": {
        "id": "cbZZDsqcMPrI",
        "colab_type": "text"
      },
      "cell_type": "markdown",
      "source": [
        "### Calculate uplift report per campaign\n",
        "\n",
        "Sometimes it makes sense to look at the uplift report per campaign. Each campaign usually reflects one segement of users. To do that we iterate over all campaigns in the current dataset."
      ]
    },
    {
      "metadata": {
        "id": "bOfbElnCEHhP",
        "colab_type": "code",
        "colab": {}
      },
      "cell_type": "code",
      "source": [
        "if per_campaign_results:\n",
        "  for campaign in bids_df['campaign_id'].unique():\n",
        "    name = \"c_{0}\".format(campaign)\n",
        "    df = bids_df[bids_df.campaign_id == campaign]\n",
        "    results_df[name] = uplift(ad_spend(df),marked(df),revenue_df,name)"
      ],
      "execution_count": 0,
      "outputs": []
    },
    {
      "metadata": {
        "id": "SdFSmL3u8Pe4",
        "colab_type": "text"
      },
      "cell_type": "markdown",
      "source": [
        "# Uplift Results\n",
        "\n",
        "You can configure the ouput by using variables in the 'Configuration' section"
      ]
    },
    {
      "metadata": {
        "id": "GWQXKYXB8YO2",
        "colab_type": "code",
        "colab": {}
      },
      "cell_type": "code",
      "source": [
        "results_df"
      ],
      "execution_count": 0,
      "outputs": []
    }
  ]
}